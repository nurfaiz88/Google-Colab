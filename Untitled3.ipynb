{
  "nbformat": 4,
  "nbformat_minor": 0,
  "metadata": {
    "colab": {
      "name": "Untitled3.ipynb",
      "provenance": [],
      "authorship_tag": "ABX9TyOjLUPR4ySwB32FQ9q7iDrb",
      "include_colab_link": true
    },
    "kernelspec": {
      "name": "python3",
      "display_name": "Python 3"
    },
    "language_info": {
      "name": "python"
    }
  },
  "cells": [
    {
      "cell_type": "markdown",
      "metadata": {
        "id": "view-in-github",
        "colab_type": "text"
      },
      "source": [
        "<a href=\"https://colab.research.google.com/github/nurfaiz88/Google-Colab/blob/main/Untitled3.ipynb\" target=\"_parent\"><img src=\"https://colab.research.google.com/assets/colab-badge.svg\" alt=\"Open In Colab\"/></a>"
      ]
    },
    {
      "cell_type": "code",
      "execution_count": 10,
      "metadata": {
        "colab": {
          "base_uri": "https://localhost:8080/"
        },
        "id": "XXb-kLGDYhDm",
        "outputId": "94395048-6ebe-4f4c-e622-9928585bb3aa"
      },
      "outputs": [
        {
          "output_type": "stream",
          "name": "stdout",
          "text": [
            "Name Zara\n",
            "Key name for the value Zara is: Name\n",
            "Age 7\n",
            "Class First\n"
          ]
        }
      ],
      "source": [
        "dict1 = {'Name': 'Zara', 'Age': 7, 'Class': \n",
        "'First'}\n",
        "'''\n",
        "print (\"dict1['Name']: \", dict1['Name'])\n",
        "print (\"dict1['Age']: \", dict1['Age'])\n",
        "del dict1['Age']\n",
        "dict1.pop('Class') # remove the specific key value\n",
        "dict1.popitem() # remove the last key value\n",
        "'''\n",
        "dict1 = {'Name': 'Zara', 'Age': 7, 'Class': 'First'}\n",
        "for SpecificKeyVal in dict1:\n",
        "  #print(SpecificKeyVal, dict1[SpecificKeyVal])\n",
        "  if dict1[SpecificKeyVal] == 'Zara':\n",
        "    print('Key name for the value Zara is: ' + SpecificKeyVal)\n",
        "\n",
        "#print(dict1)"
      ]
    },
    {
      "cell_type": "code",
      "source": [
        "import copy\n",
        "\n",
        "thisdict = dict(apple=\"green\", banana=\"yellow\", cherry=\"red\")\n",
        "\n",
        "#Remove apple\n",
        "thisdict.pop('apple')\n",
        "\n",
        "#Add durian\n",
        "thisdict['durian'] = 'greenwithyellow'\n",
        "\n",
        "#How many elements?\n",
        "len(thisdict)\n",
        "\n",
        "#Create a shallow copy? No need to add .copy() because it will become as deep copy\n",
        "thisdict_ShallowCopy = thisdict\n",
        "thisdict_ShallowCopy['durianx'] = 'greenwithyellowx'\n",
        "thisdict_ShallowCopy['durian'] = 'greenwithyellowsss'\n",
        "\n",
        "#Create a deep copy?\n",
        "thisdict_DeepCopy = copy.deepcopy(thisdict)\n",
        "thisdict_DeepCopy['durianvv'] = 'greenwithyellowvv'\n",
        "thisdict_DeepCopy['durian'] = 'greenwithyellowvvvvvv'\n",
        "\n",
        "#print out final output\n",
        "print(thisdict)\n",
        "print(thisdict_ShallowCopy)\n",
        "print(thisdict_DeepCopy)\n"
      ],
      "metadata": {
        "colab": {
          "base_uri": "https://localhost:8080/"
        },
        "id": "9ETJ1Jlqjmr8",
        "outputId": "3e433a32-6213-4612-c340-265c063aa926"
      },
      "execution_count": 18,
      "outputs": [
        {
          "output_type": "stream",
          "name": "stdout",
          "text": [
            "{'banana': 'yellow', 'cherry': 'red', 'durian': 'greenwithyellowsss', 'durianx': 'greenwithyellowx'}\n",
            "{'banana': 'yellow', 'cherry': 'red', 'durian': 'greenwithyellowsss', 'durianx': 'greenwithyellowx'}\n",
            "{'banana': 'yellow', 'cherry': 'red', 'durian': 'greenwithyellowvvvvvv', 'durianx': 'greenwithyellowx', 'durianvv': 'greenwithyellowvv'}\n"
          ]
        }
      ]
    },
    {
      "cell_type": "code",
      "source": [
        "grade = input('What is your grade:')\n",
        "if grade.upper() == 'A':\n",
        "  print('Cemerlang')\n",
        "elif grade == 'B':\n",
        "  print('Bagus')\n",
        "elif grade == 'C':\n",
        "  print('Baik')\n",
        "else:\n",
        "  print('Teruskan Usaha!')"
      ],
      "metadata": {
        "colab": {
          "base_uri": "https://localhost:8080/"
        },
        "id": "g6Q-TCUWRFcO",
        "outputId": "af48e8df-1ebb-4652-843f-86e315bb7bc0"
      },
      "execution_count": 11,
      "outputs": [
        {
          "output_type": "stream",
          "name": "stdout",
          "text": [
            "What is your grade:a\n",
            "Cemerlang\n"
          ]
        }
      ]
    },
    {
      "cell_type": "code",
      "source": [
        "cx=list(range(-10,1,1))\n",
        "print(cx)"
      ],
      "metadata": {
        "colab": {
          "base_uri": "https://localhost:8080/"
        },
        "id": "TY93wEtPXQwf",
        "outputId": "44b0f452-cad8-49a3-9188-186f335033e4"
      },
      "execution_count": 13,
      "outputs": [
        {
          "output_type": "stream",
          "name": "stdout",
          "text": [
            "[-10, -9, -8, -7, -6, -5, -4, -3, -2, -1, 0]\n"
          ]
        }
      ]
    },
    {
      "cell_type": "code",
      "source": [
        "print"
      ],
      "metadata": {
        "id": "d2ee4qf6T6jd"
      },
      "execution_count": null,
      "outputs": []
    }
  ]
}