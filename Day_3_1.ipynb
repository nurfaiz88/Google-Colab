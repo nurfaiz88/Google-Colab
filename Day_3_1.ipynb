{
  "nbformat": 4,
  "nbformat_minor": 0,
  "metadata": {
    "colab": {
      "name": "Day 3.1.ipynb",
      "provenance": [],
      "collapsed_sections": [],
      "include_colab_link": true
    },
    "kernelspec": {
      "name": "python3",
      "display_name": "Python 3"
    },
    "language_info": {
      "name": "python"
    }
  },
  "cells": [
    {
      "cell_type": "markdown",
      "metadata": {
        "id": "view-in-github",
        "colab_type": "text"
      },
      "source": [
        "<a href=\"https://colab.research.google.com/github/nurfaiz88/Google-Colab/blob/main/Day_3_1.ipynb\" target=\"_parent\"><img src=\"https://colab.research.google.com/assets/colab-badge.svg\" alt=\"Open In Colab\"/></a>"
      ]
    },
    {
      "cell_type": "code",
      "execution_count": null,
      "metadata": {
        "colab": {
          "base_uri": "https://localhost:8080/"
        },
        "id": "i09RjNgxiI66",
        "outputId": "1e5a09ee-087e-4511-e7ae-3c78a8b6c0d3"
      },
      "outputs": [
        {
          "output_type": "stream",
          "name": "stdout",
          "text": [
            "[1, 4, 9, 16]\n"
          ]
        }
      ],
      "source": [
        "squares = [x * x for x in (1,2,3,4)]\n",
        "print (squares)"
      ]
    },
    {
      "cell_type": "code",
      "source": [
        "squares = []\n",
        "for x in (1,2, 3, 4):\n",
        "  squares.append(x * x)\n",
        "print(squares)"
      ],
      "metadata": {
        "colab": {
          "base_uri": "https://localhost:8080/"
        },
        "id": "1bED9dmPiQI_",
        "outputId": "80d75c3e-aa24-4a0d-d6c7-bfebdfb6c573"
      },
      "execution_count": null,
      "outputs": [
        {
          "output_type": "stream",
          "name": "stdout",
          "text": [
            "[1, 4, 9, 16]\n"
          ]
        }
      ]
    },
    {
      "cell_type": "code",
      "source": [
        "s1 = [s.upper() for s in 'hello' if s == 'h']\n",
        "print(s1)"
      ],
      "metadata": {
        "colab": {
          "base_uri": "https://localhost:8080/"
        },
        "id": "P5k9otE5imXi",
        "outputId": "e8e8699f-68e2-4d58-c6dc-11c8dd5a9fea"
      },
      "execution_count": null,
      "outputs": [
        {
          "output_type": "stream",
          "name": "stdout",
          "text": [
            "['H']\n"
          ]
        }
      ]
    },
    {
      "cell_type": "code",
      "source": [
        "s1=[]\n",
        "for s in 'hello':\n",
        "  if(s=='h'):\n",
        "    s1.append(s.upper())\n",
        "print(s1)"
      ],
      "metadata": {
        "colab": {
          "base_uri": "https://localhost:8080/"
        },
        "id": "3qExpTBGiohR",
        "outputId": "7acecc4e-a51a-4417-f21e-a42e7e7e74bf"
      },
      "execution_count": null,
      "outputs": [
        {
          "output_type": "stream",
          "name": "stdout",
          "text": [
            "['H']\n"
          ]
        }
      ]
    },
    {
      "cell_type": "code",
      "source": [
        "s2 = [s if s in 'arial' else '*' for s in 'apple']\n",
        "print(s2)"
      ],
      "metadata": {
        "colab": {
          "base_uri": "https://localhost:8080/"
        },
        "id": "4v8cVG5NjlRY",
        "outputId": "3a4ea999-c531-4176-b6fc-4fe7597f5991"
      },
      "execution_count": null,
      "outputs": [
        {
          "output_type": "stream",
          "name": "stdout",
          "text": [
            "['a', '*', '*', 'l', '*']\n"
          ]
        }
      ]
    },
    {
      "cell_type": "code",
      "source": [
        "s1=[]\n",
        "for s in 'apple':\n",
        "  if(s in 'arial'):\n",
        "    s1.append(s)\n",
        "  else:\n",
        "    s1.append('*')\n",
        "print(s1)"
      ],
      "metadata": {
        "colab": {
          "base_uri": "https://localhost:8080/"
        },
        "id": "qmXe9WcxjtEx",
        "outputId": "85061c8f-2bad-4505-8be3-7dd4ddc7d1aa"
      },
      "execution_count": null,
      "outputs": [
        {
          "output_type": "stream",
          "name": "stdout",
          "text": [
            "['a', '*', '*', 'l', '*']\n"
          ]
        }
      ]
    },
    {
      "cell_type": "code",
      "source": [
        "x1=[]\n",
        "result=[]\n",
        "for x in range(1,20):\n",
        "  x1.append(x*x)\n",
        "for a in x1:\n",
        "  if(a%3!=0):\n",
        "    result.append(a)\n",
        "print(result)"
      ],
      "metadata": {
        "colab": {
          "base_uri": "https://localhost:8080/"
        },
        "id": "cxUZGx2AkNN4",
        "outputId": "c7d3da73-b6c5-4468-83fb-987617b97ce2"
      },
      "execution_count": null,
      "outputs": [
        {
          "output_type": "stream",
          "name": "stdout",
          "text": [
            "[1, 4, 16, 25, 49, 64, 100, 121, 169, 196, 256, 289, 361]\n"
          ]
        }
      ]
    },
    {
      "cell_type": "code",
      "source": [
        "result=[a  for a in x1 if a%3 != 0]\n",
        "print(result)"
      ],
      "metadata": {
        "colab": {
          "base_uri": "https://localhost:8080/"
        },
        "id": "LTs3v-8YnLhM",
        "outputId": "7f52a9c0-82d2-406b-c648-2a966fab2209"
      },
      "execution_count": null,
      "outputs": [
        {
          "output_type": "stream",
          "name": "stdout",
          "text": [
            "[1, 4, 16, 25, 49, 64, 100, 121, 169, 196, 256, 289, 361]\n"
          ]
        }
      ]
    },
    {
      "cell_type": "code",
      "source": [
        "text=\"Today is a great day\"\n",
        "w=text.split()\n",
        "x1=[]\n",
        "for x in w:\n",
        "  x1.append(x[0])\n",
        "print(x1)"
      ],
      "metadata": {
        "colab": {
          "base_uri": "https://localhost:8080/"
        },
        "id": "UgaU8mKCoTaM",
        "outputId": "a70ac229-5a58-4506-dbf4-4dffa2d21cb4"
      },
      "execution_count": null,
      "outputs": [
        {
          "output_type": "stream",
          "name": "stdout",
          "text": [
            "['T', 'i', 'a', 'g', 'd']\n"
          ]
        }
      ]
    },
    {
      "cell_type": "code",
      "source": [
        "x1=[x[0] for x in text.split()]\n",
        "print(x1)"
      ],
      "metadata": {
        "colab": {
          "base_uri": "https://localhost:8080/"
        },
        "id": "Shcp4Krvo4G_",
        "outputId": "9724f931-6dee-42c9-bba3-6f2f705abe7e"
      },
      "execution_count": null,
      "outputs": [
        {
          "output_type": "stream",
          "name": "stdout",
          "text": [
            "['T', 'i', 'a', 'g', 'd']\n"
          ]
        }
      ]
    },
    {
      "cell_type": "code",
      "source": [
        "#Use list comprehension to return a list of odd numbers in the range 0 - 10"
      ],
      "metadata": {
        "id": "9GvV_S4tqtFt"
      },
      "execution_count": null,
      "outputs": []
    },
    {
      "cell_type": "code",
      "source": [
        "x1=(x[0] for x in text.split())\n",
        "print(x1)\n",
        "next(x1)\n"
      ],
      "metadata": {
        "colab": {
          "base_uri": "https://localhost:8080/",
          "height": 52
        },
        "id": "1l_liYoiqxC5",
        "outputId": "f55f48ac-79c2-470b-df13-f441bc5cdd7e"
      },
      "execution_count": null,
      "outputs": [
        {
          "output_type": "stream",
          "name": "stdout",
          "text": [
            "<generator object <genexpr> at 0x7efcbcbcb5d0>\n"
          ]
        },
        {
          "output_type": "execute_result",
          "data": {
            "text/plain": [
              "'T'"
            ],
            "application/vnd.google.colaboratory.intrinsic+json": {
              "type": "string"
            }
          },
          "metadata": {},
          "execution_count": 39
        }
      ]
    },
    {
      "cell_type": "code",
      "source": [
        "for a in x1:\n",
        "  print(a)"
      ],
      "metadata": {
        "id": "eTPnc41DsQXn"
      },
      "execution_count": null,
      "outputs": []
    },
    {
      "cell_type": "code",
      "source": [
        "a = (n*n for n in range(10))\n",
        "next(a)\n",
        "\n",
        "for x in a:\n",
        " print(x)   "
      ],
      "metadata": {
        "id": "3WmZ2h1lsD87"
      },
      "execution_count": null,
      "outputs": []
    },
    {
      "cell_type": "code",
      "source": [
        "def range2(n):\n",
        "  for i in range(n):# n= 5 range(5)  => 0,1 ,2 ,3,4\n",
        "    if i%2 == 0:\n",
        "      yield i\n",
        "\n",
        "print(range2(10))\n",
        "next(range2(10))"
      ],
      "metadata": {
        "colab": {
          "base_uri": "https://localhost:8080/"
        },
        "id": "yAeE4hJIsmve",
        "outputId": "6410d91d-3083-4906-9c4e-368d46b477bb"
      },
      "execution_count": null,
      "outputs": [
        {
          "output_type": "stream",
          "name": "stdout",
          "text": [
            "<generator object range2 at 0x7efcbcc7ab50>\n"
          ]
        },
        {
          "output_type": "execute_result",
          "data": {
            "text/plain": [
              "0"
            ]
          },
          "metadata": {},
          "execution_count": 48
        }
      ]
    },
    {
      "cell_type": "code",
      "source": [
        "for i in range2(10):\n",
        "  print(i)"
      ],
      "metadata": {
        "colab": {
          "base_uri": "https://localhost:8080/"
        },
        "id": "2ajsmsQ1tnB2",
        "outputId": "9b8d31ba-3a62-44ba-fd66-4f4baf211b42"
      },
      "execution_count": null,
      "outputs": [
        {
          "output_type": "stream",
          "name": "stdout",
          "text": [
            "0\n",
            "2\n",
            "4\n",
            "6\n",
            "8\n"
          ]
        }
      ]
    },
    {
      "cell_type": "code",
      "source": [
        "import sample"
      ],
      "metadata": {
        "colab": {
          "base_uri": "https://localhost:8080/",
          "height": 305
        },
        "id": "-17zN1pKvX60",
        "outputId": "fc7c81d5-922a-4449-d734-734867f0a02b"
      },
      "execution_count": null,
      "outputs": [
        {
          "output_type": "error",
          "ename": "ModuleNotFoundError",
          "evalue": "ignored",
          "traceback": [
            "\u001b[0;31m---------------------------------------------------------------------------\u001b[0m",
            "\u001b[0;31mModuleNotFoundError\u001b[0m                       Traceback (most recent call last)",
            "\u001b[0;32m<ipython-input-49-c4ef148c3e21>\u001b[0m in \u001b[0;36m<module>\u001b[0;34m()\u001b[0m\n\u001b[0;32m----> 1\u001b[0;31m \u001b[0;32mimport\u001b[0m \u001b[0msample\u001b[0m\u001b[0;34m\u001b[0m\u001b[0;34m\u001b[0m\u001b[0m\n\u001b[0m",
            "\u001b[0;31mModuleNotFoundError\u001b[0m: No module named 'sample'",
            "",
            "\u001b[0;31m---------------------------------------------------------------------------\u001b[0;32m\nNOTE: If your import is failing due to a missing package, you can\nmanually install dependencies using either !pip or !apt.\n\nTo view examples of installing some common dependencies, click the\n\"Open Examples\" button below.\n\u001b[0;31m---------------------------------------------------------------------------\u001b[0m\n"
          ],
          "errorDetails": {
            "actions": [
              {
                "action": "open_url",
                "actionText": "Open Examples",
                "url": "/notebooks/snippets/importing_libraries.ipynb"
              }
            ]
          }
        }
      ]
    },
    {
      "cell_type": "code",
      "source": [
        "2/0"
      ],
      "metadata": {
        "colab": {
          "base_uri": "https://localhost:8080/",
          "height": 165
        },
        "id": "JgmbwB6ov7rC",
        "outputId": "8cc07869-279d-462f-e1b6-6536f9c51d58"
      },
      "execution_count": null,
      "outputs": [
        {
          "output_type": "error",
          "ename": "ZeroDivisionError",
          "evalue": "ignored",
          "traceback": [
            "\u001b[0;31m---------------------------------------------------------------------------\u001b[0m",
            "\u001b[0;31mZeroDivisionError\u001b[0m                         Traceback (most recent call last)",
            "\u001b[0;32m<ipython-input-52-e8326a161779>\u001b[0m in \u001b[0;36m<module>\u001b[0;34m()\u001b[0m\n\u001b[0;32m----> 1\u001b[0;31m \u001b[0;36m2\u001b[0m\u001b[0;34m/\u001b[0m\u001b[0;36m0\u001b[0m\u001b[0;34m\u001b[0m\u001b[0;34m\u001b[0m\u001b[0m\n\u001b[0m",
            "\u001b[0;31mZeroDivisionError\u001b[0m: division by zero"
          ]
        }
      ]
    },
    {
      "cell_type": "code",
      "source": [
        "try:\n",
        "  a = 2/0\n",
        "except ZeroDivisionError:\n",
        "  print (\"Dont use the 0 as your divisor\")\n",
        "else:\n",
        "  print (\"Correct ....\")"
      ],
      "metadata": {
        "colab": {
          "base_uri": "https://localhost:8080/"
        },
        "id": "HFa9RPyfvqQ3",
        "outputId": "96ba601b-765b-4e0c-f2f2-06f9d645c862"
      },
      "execution_count": null,
      "outputs": [
        {
          "output_type": "stream",
          "name": "stdout",
          "text": [
            "Dont use the 0 as your divisor\n"
          ]
        }
      ]
    },
    {
      "cell_type": "code",
      "source": [
        "try:\n",
        "  a = [1, 2, 3]\n",
        "  b = a[8]\n",
        "except IndexError:\n",
        "  print(\"give index values within the range\")\n",
        "else:\n",
        "  print(b)\n"
      ],
      "metadata": {
        "colab": {
          "base_uri": "https://localhost:8080/"
        },
        "id": "So_W2LozxEe9",
        "outputId": "afdb60e4-70af-4286-81c3-a2f0c61a9216"
      },
      "execution_count": null,
      "outputs": [
        {
          "output_type": "stream",
          "name": "stdout",
          "text": [
            "give index values within the range\n"
          ]
        }
      ]
    },
    {
      "cell_type": "code",
      "source": [
        "import math\n",
        "help(math)"
      ],
      "metadata": {
        "id": "T8WBeanOxJQr"
      },
      "execution_count": null,
      "outputs": []
    },
    {
      "cell_type": "code",
      "source": [
        "dir(math)"
      ],
      "metadata": {
        "id": "oISFO1js5J6n"
      },
      "execution_count": null,
      "outputs": []
    },
    {
      "cell_type": "code",
      "source": [
        "# Instance attributes\n",
        "class Shark:\n",
        "  def __init__(self, name):\n",
        "    self.name = name\n",
        "  def swim(self):# Reference the name#Instance Method\n",
        "    print(self.name + \" is swimming.\")\n",
        "  def be_awesome(self):\n",
        "    print(self.name + \" is being awesome.\")\n",
        "  \n",
        "\n",
        "sammy = Shark(\"Sammy\")\n",
        "sammy.swim()\n",
        "sammy.be_awesome()\n",
        "\n",
        "\n"
      ],
      "metadata": {
        "colab": {
          "base_uri": "https://localhost:8080/",
          "height": 253
        },
        "id": "hpnH7fHv55o4",
        "outputId": "a6a4e236-645f-48f3-b9d4-ddb08e811cba"
      },
      "execution_count": null,
      "outputs": [
        {
          "output_type": "stream",
          "name": "stdout",
          "text": [
            "Sammy is swimming.\n",
            "Sammy is being awesome.\n"
          ]
        },
        {
          "output_type": "error",
          "ename": "TypeError",
          "evalue": "ignored",
          "traceback": [
            "\u001b[0;31m---------------------------------------------------------------------------\u001b[0m",
            "\u001b[0;31mTypeError\u001b[0m                                 Traceback (most recent call last)",
            "\u001b[0;32m<ipython-input-100-a0a8ef2e2d5f>\u001b[0m in \u001b[0;36m<module>\u001b[0;34m()\u001b[0m\n\u001b[1;32m     13\u001b[0m \u001b[0msammy\u001b[0m\u001b[0;34m.\u001b[0m\u001b[0mswim\u001b[0m\u001b[0;34m(\u001b[0m\u001b[0;34m)\u001b[0m\u001b[0;34m\u001b[0m\u001b[0;34m\u001b[0m\u001b[0m\n\u001b[1;32m     14\u001b[0m \u001b[0msammy\u001b[0m\u001b[0;34m.\u001b[0m\u001b[0mbe_awesome\u001b[0m\u001b[0;34m(\u001b[0m\u001b[0;34m)\u001b[0m\u001b[0;34m\u001b[0m\u001b[0;34m\u001b[0m\u001b[0m\n\u001b[0;32m---> 15\u001b[0;31m \u001b[0msammy\u001b[0m\u001b[0;34m.\u001b[0m\u001b[0mprint\u001b[0m\u001b[0;34m(\u001b[0m\u001b[0;34m)\u001b[0m\u001b[0;34m\u001b[0m\u001b[0;34m\u001b[0m\u001b[0m\n\u001b[0m\u001b[1;32m     16\u001b[0m \u001b[0;34m\u001b[0m\u001b[0m\n",
            "\u001b[0;31mTypeError\u001b[0m: print() takes 0 positional arguments but 1 was given"
          ]
        }
      ]
    },
    {
      "cell_type": "code",
      "source": [
        "# Class attributes\n",
        "class Shark:\n",
        "  species = 'fish'\n",
        "  def __init__(self, name):\n",
        "    self.name = name\n",
        "\n",
        "sammy = Shark(\"Sammy\")\n",
        "print(sammy.species)\n",
        "stevie = Shark(\"Stevie\")\n",
        "stevie.species=\"banana\"\n",
        "print(stevie.species)"
      ],
      "metadata": {
        "colab": {
          "base_uri": "https://localhost:8080/"
        },
        "id": "kNZK6z22ABoe",
        "outputId": "0135b9a7-aa80-47ea-db47-bfad5be8d9bf"
      },
      "execution_count": null,
      "outputs": [
        {
          "output_type": "stream",
          "name": "stdout",
          "text": [
            "fish\n",
            "banana\n"
          ]
        }
      ]
    },
    {
      "cell_type": "code",
      "source": [
        "class Dog:\n",
        "  height=12\n",
        "  weight=13\n",
        "  color='black'\n",
        "  def __init__(self,name):\n",
        "    self.name=name\n",
        "  \n",
        "\n",
        "\n",
        "shitzu=Dog(\"Shitzu\")\n",
        "print(shitzu.height)\n",
        "shitzu.height=10\n",
        "shitzu.weight=15\n",
        "print(shitzu.height)\n",
        "print(shitzu.weight)\n"
      ],
      "metadata": {
        "colab": {
          "base_uri": "https://localhost:8080/"
        },
        "id": "EwnYPXwRAY2b",
        "outputId": "f7b64a37-4bf2-40a0-d62e-1fdadaad2ac7"
      },
      "execution_count": null,
      "outputs": [
        {
          "output_type": "stream",
          "name": "stdout",
          "text": [
            "12\n",
            "10\n",
            "15\n"
          ]
        }
      ]
    },
    {
      "cell_type": "code",
      "source": [
        "class Dog:\n",
        "    species = \"Canis familiaris\"\n",
        "\n",
        "    def __init__(self, name, age):\n",
        "        self.name = name\n",
        "        self.age = age\n",
        "\n",
        "    # Instance method\n",
        "    def description(self):\n",
        "        return f\"{self.name} is {self.age} years old\"\n",
        "\n",
        "    # Another instance method\n",
        "    def speak(self, sound):\n",
        "        return f\"{self.name} says {sound}\""
      ],
      "metadata": {
        "id": "zRY3uwSBMCtA"
      },
      "execution_count": null,
      "outputs": []
    },
    {
      "cell_type": "code",
      "source": [
        "miles = Dog(\"Miles\", 4)"
      ],
      "metadata": {
        "id": "2z2NT9cyMM7P"
      },
      "execution_count": null,
      "outputs": []
    },
    {
      "cell_type": "code",
      "source": [
        "miles.description()"
      ],
      "metadata": {
        "colab": {
          "base_uri": "https://localhost:8080/",
          "height": 35
        },
        "id": "dfVSnmm_NAwJ",
        "outputId": "7e2e4673-2a82-4ec3-c285-92c816041b48"
      },
      "execution_count": null,
      "outputs": [
        {
          "output_type": "execute_result",
          "data": {
            "text/plain": [
              "'Miles is 4 years old'"
            ],
            "application/vnd.google.colaboratory.intrinsic+json": {
              "type": "string"
            }
          },
          "metadata": {},
          "execution_count": 80
        }
      ]
    },
    {
      "cell_type": "code",
      "source": [
        "miles.speak(\"woof\")"
      ],
      "metadata": {
        "colab": {
          "base_uri": "https://localhost:8080/",
          "height": 35
        },
        "id": "bsBeJC_cM5_I",
        "outputId": "79d7ce51-1940-4d7a-e3ae-1746ea8e855f"
      },
      "execution_count": null,
      "outputs": [
        {
          "output_type": "execute_result",
          "data": {
            "text/plain": [
              "'Miles says woof'"
            ],
            "application/vnd.google.colaboratory.intrinsic+json": {
              "type": "string"
            }
          },
          "metadata": {},
          "execution_count": 79
        }
      ]
    },
    {
      "cell_type": "code",
      "source": [
        "class Dog: #class declaration\n",
        "    species = \"Canis familiaris\"# class attributes\n",
        "\n",
        "    def __init__(self, name, age):#instance default method\n",
        "        self.name = name  #storing value\n",
        "        self.age = age\n",
        "\n",
        "    def __str__(self):#instance default method\n",
        "        return f\"{self.name} is {self.age} years old\" #returnng the value\n",
        "\n",
        "    def speak(self, sound):#objectname.speak(\"sound value\")\n",
        "        return f\"{self.name} says {sound}\""
      ],
      "metadata": {
        "id": "a1zanFYSNMdB"
      },
      "execution_count": null,
      "outputs": []
    },
    {
      "cell_type": "code",
      "source": [
        ""
      ],
      "metadata": {
        "id": "86FsrGpTd803"
      },
      "execution_count": null,
      "outputs": []
    },
    {
      "cell_type": "code",
      "source": [
        "class Bulldog(Dog):\n",
        "    pass"
      ],
      "metadata": {
        "id": "ZmnBMcNfNWjU"
      },
      "execution_count": null,
      "outputs": []
    },
    {
      "cell_type": "code",
      "source": [
        "jack = Bulldog(\"Jack\", 3)"
      ],
      "metadata": {
        "id": "GYgFPMevNPk-"
      },
      "execution_count": null,
      "outputs": []
    },
    {
      "cell_type": "code",
      "source": [
        "print(jack)"
      ],
      "metadata": {
        "colab": {
          "base_uri": "https://localhost:8080/"
        },
        "id": "7-KS7OCoNYeV",
        "outputId": "c82348bd-eb3a-4a06-c519-73cc2f743e00"
      },
      "execution_count": null,
      "outputs": [
        {
          "output_type": "stream",
          "name": "stdout",
          "text": [
            "Jack is 3 years old\n"
          ]
        }
      ]
    },
    {
      "cell_type": "code",
      "source": [
        "jack.speak(\"yap\")"
      ],
      "metadata": {
        "colab": {
          "base_uri": "https://localhost:8080/",
          "height": 35
        },
        "id": "-_vJWiG6NbCH",
        "outputId": "fda76df6-4c53-4842-b294-4569fdd7cf4a"
      },
      "execution_count": null,
      "outputs": [
        {
          "output_type": "execute_result",
          "data": {
            "text/plain": [
              "'Jack says yap'"
            ],
            "application/vnd.google.colaboratory.intrinsic+json": {
              "type": "string"
            }
          },
          "metadata": {},
          "execution_count": 15
        }
      ]
    },
    {
      "cell_type": "code",
      "source": [
        "#Inheritance\n",
        "class Person:\n",
        "  def __init__(self, fname, lname):\n",
        "    self.firstname = fname\n",
        "    self.lastname = lname\n",
        "\n",
        "  def printname(self):\n",
        "    print(self.firstname, self.lastname)"
      ],
      "metadata": {
        "id": "NBVtj0-gNv1W"
      },
      "execution_count": null,
      "outputs": []
    },
    {
      "cell_type": "code",
      "source": [
        "x = Person(\"John\", \"Doe\")\n",
        "x.printname()"
      ],
      "metadata": {
        "id": "iY5Tlxs7NysS",
        "colab": {
          "base_uri": "https://localhost:8080/"
        },
        "outputId": "fb8a26e1-d687-4010-a156-6145a04e95b8"
      },
      "execution_count": null,
      "outputs": [
        {
          "output_type": "stream",
          "name": "stdout",
          "text": [
            "John Doe\n"
          ]
        }
      ]
    },
    {
      "cell_type": "code",
      "source": [
        "# Python program to demonstrate\n",
        "# use of class method and static method.\n",
        "from datetime import date\n",
        "\n",
        "class Person:\n",
        "\tdef __init__(self, name, age): #test1=Person(x) # instance method\n",
        "\t\tself.name = name\n",
        "\t\tself.age = age\n",
        "\t\n",
        "\t# a class method to create a Person object by birth year.# whenever you run class method the value will be return to \n",
        "\t@classmethod\n",
        "\tdef fromBirthYear(cls, name, year):\n",
        "\t\treturn cls(name, date.today().year - year)\n",
        "\t\n",
        "\t# a static method to check if a Person is adult or not.\n",
        "\t@staticmethod\n",
        "\tdef isAdult(age):\n",
        "\t\treturn age > 18\n",
        "\n"
      ],
      "metadata": {
        "id": "44o0YTFbNzW3"
      },
      "execution_count": null,
      "outputs": []
    },
    {
      "cell_type": "code",
      "source": [
        "person1 = Person('mayank', 21)\n",
        "person2 = Person.fromBirthYear('mayank', 1996)#class method\n",
        "\n",
        "print (person1.age)\n",
        "print (person2.age)\n",
        "\n",
        "# print the result\n",
        "print (Person.isAdult(22))\n"
      ],
      "metadata": {
        "colab": {
          "base_uri": "https://localhost:8080/"
        },
        "id": "blVIWkKvOazx",
        "outputId": "a3273d13-99e7-4689-ccc3-d2fbe771c7b8"
      },
      "execution_count": null,
      "outputs": [
        {
          "output_type": "stream",
          "name": "stdout",
          "text": [
            "21\n",
            "26\n",
            "True\n"
          ]
        }
      ]
    },
    {
      "cell_type": "code",
      "source": [
        "sample=Person.fromBirthYear('Sam',1990)\n",
        "print (sample.age)\n",
        "print (sample.age)"
      ],
      "metadata": {
        "colab": {
          "base_uri": "https://localhost:8080/",
          "height": 200
        },
        "id": "7cBCmTDJYclz",
        "outputId": "97e92f7b-18da-4dad-abbe-be1486eb18f7"
      },
      "execution_count": null,
      "outputs": [
        {
          "output_type": "error",
          "ename": "NameError",
          "evalue": "ignored",
          "traceback": [
            "\u001b[0;31m---------------------------------------------------------------------------\u001b[0m",
            "\u001b[0;31mNameError\u001b[0m                                 Traceback (most recent call last)",
            "\u001b[0;32m<ipython-input-4-7d412cdd9e60>\u001b[0m in \u001b[0;36m<module>\u001b[0;34m()\u001b[0m\n\u001b[0;32m----> 1\u001b[0;31m \u001b[0msample\u001b[0m\u001b[0;34m=\u001b[0m\u001b[0mPerson\u001b[0m\u001b[0;34m.\u001b[0m\u001b[0mfromBirthYear\u001b[0m\u001b[0;34m(\u001b[0m\u001b[0;34m'Sam'\u001b[0m\u001b[0;34m,\u001b[0m\u001b[0;36m1990\u001b[0m\u001b[0;34m)\u001b[0m\u001b[0;34m\u001b[0m\u001b[0;34m\u001b[0m\u001b[0m\n\u001b[0m\u001b[1;32m      2\u001b[0m \u001b[0mprint\u001b[0m \u001b[0;34m(\u001b[0m\u001b[0msample\u001b[0m\u001b[0;34m.\u001b[0m\u001b[0mage\u001b[0m\u001b[0;34m)\u001b[0m\u001b[0;34m\u001b[0m\u001b[0;34m\u001b[0m\u001b[0m\n\u001b[1;32m      3\u001b[0m \u001b[0mprint\u001b[0m \u001b[0;34m(\u001b[0m\u001b[0msample\u001b[0m\u001b[0;34m.\u001b[0m\u001b[0mage\u001b[0m\u001b[0;34m)\u001b[0m\u001b[0;34m\u001b[0m\u001b[0;34m\u001b[0m\u001b[0m\n",
            "\u001b[0;31mNameError\u001b[0m: name 'Person' is not defined"
          ]
        }
      ]
    },
    {
      "cell_type": "code",
      "source": [
        "class Professor:\n",
        "  def __init__(self, name, age, address):\n",
        "    self.name = name\n",
        "    self.age = age\n",
        "    self.address = address\n",
        "  def __str__(self):\n",
        "    return f'ph.{self.name}, age: {self.age}, address: {self.address}'\n",
        "class Department:\n",
        "  def __init__(self, name, prof):\n",
        "      self.name = name\n",
        "      self.prof = prof\n",
        "  def __str__(self):\n",
        "      return f'Department of {self.name}, {self.prof}'"
      ],
      "metadata": {
        "id": "F4BS22w_O0hj"
      },
      "execution_count": null,
      "outputs": []
    },
    {
      "cell_type": "code",
      "source": [
        "prof = Professor('Edward', 56, 'London')\n",
        "\n",
        "dep = Department('Science', prof)\n",
        "\n",
        "print(dep)"
      ],
      "metadata": {
        "colab": {
          "base_uri": "https://localhost:8080/"
        },
        "id": "5cR7xL-XPFI6",
        "outputId": "044d63d0-66bf-4fea-d434-1a03bb5f7d41"
      },
      "execution_count": null,
      "outputs": [
        {
          "output_type": "stream",
          "name": "stdout",
          "text": [
            "Department of Science, ph.Edward, age: 56, address: London\n"
          ]
        }
      ]
    },
    {
      "cell_type": "code",
      "source": [
        "#Abstarction\n",
        "# Python program demonstrate  \n",
        "# abstract base class work   \n",
        "from abc import ABC, abstractmethod   \n",
        "class Car(ABC):   \n",
        "    def mileage(self):   \n",
        "        pass  \n",
        "  \n",
        "class Tesla(Car):   \n",
        "    def mileage(self):   \n",
        "        print(\"The mileage is 30kmph\")   \n",
        "class Suzuki(Car):   \n",
        "    def mileage(self):   \n",
        "        print(\"The mileage is 25kmph \")   \n",
        "class Duster(Car):   \n",
        "     def mileage(self):   \n",
        "          print(\"The mileage is 24kmph \")   \n",
        "  \n",
        "class Renault(Car):   \n",
        "    def mileage(self):   \n",
        "            print(\"The mileage is 27kmph \")   \n",
        "          \n",
        "# Driver code   \n",
        "t= Tesla ()   \n",
        "t.mileage()   \n",
        "  \n",
        "r = Renault()   \n",
        "r.mileage()   \n",
        "  \n",
        "s = Suzuki()   \n",
        "s.mileage()   \n",
        "d = Duster()   \n",
        "d.mileage()  "
      ],
      "metadata": {
        "colab": {
          "base_uri": "https://localhost:8080/"
        },
        "id": "KKuwm-YoPgkj",
        "outputId": "f2159dae-a2d9-456e-b0e6-3646bef1bd55"
      },
      "execution_count": null,
      "outputs": [
        {
          "output_type": "stream",
          "name": "stdout",
          "text": [
            "The mileage is 30kmph\n",
            "The mileage is 27kmph \n",
            "The mileage is 25kmph \n",
            "The mileage is 24kmph \n"
          ]
        }
      ]
    },
    {
      "cell_type": "code",
      "source": [
        "class Person: \n",
        "  def __init__(self, person_name, person_age): \n",
        "    self.name = person_name\n",
        "    self.age = person_age\n",
        "  def show_name(self): \n",
        "    print(self.name) \n",
        "  def show_age(self): \n",
        "    print(self.age)\n",
        "\n",
        "class Student(Person): \n",
        "  def __init__(self, student_name, student_age, student_id): \n",
        "    super().__init__(student_name, student_age) \n",
        "    self.student_id = student_id\n",
        "  def get_id(self): \n",
        "    return self.student_id\n",
        "\n",
        "person1 = Person(\"Richard\", 23) \n",
        "person1.show_age() #23\n",
        "student1 = Student(\"Max\", 22, \"102\")\n",
        "print(student1.get_id()) #102\n",
        "print(student1.show_name()) #Max"
      ],
      "metadata": {
        "id": "OVn0mZu-vq87",
        "outputId": "f9afd28b-b574-4f32-ebd1-e2f3d357b523",
        "colab": {
          "base_uri": "https://localhost:8080/"
        }
      },
      "execution_count": 2,
      "outputs": [
        {
          "output_type": "stream",
          "name": "stdout",
          "text": [
            "23\n",
            "102\n",
            "Max\n",
            "None\n"
          ]
        }
      ]
    },
    {
      "cell_type": "code",
      "source": [
        "dir(ABC)"
      ],
      "metadata": {
        "colab": {
          "base_uri": "https://localhost:8080/"
        },
        "id": "g6F-fXESPn4Z",
        "outputId": "d5ac946d-fcc6-499f-8829-86dd06ed8d0a"
      },
      "execution_count": null,
      "outputs": [
        {
          "output_type": "execute_result",
          "data": {
            "text/plain": [
              "['__abstractmethods__',\n",
              " '__class__',\n",
              " '__delattr__',\n",
              " '__dir__',\n",
              " '__doc__',\n",
              " '__eq__',\n",
              " '__format__',\n",
              " '__ge__',\n",
              " '__getattribute__',\n",
              " '__gt__',\n",
              " '__hash__',\n",
              " '__init__',\n",
              " '__init_subclass__',\n",
              " '__le__',\n",
              " '__lt__',\n",
              " '__module__',\n",
              " '__ne__',\n",
              " '__new__',\n",
              " '__reduce__',\n",
              " '__reduce_ex__',\n",
              " '__repr__',\n",
              " '__setattr__',\n",
              " '__sizeof__',\n",
              " '__slots__',\n",
              " '__str__',\n",
              " '__subclasshook__',\n",
              " '_abc_impl']"
            ]
          },
          "metadata": {},
          "execution_count": 97
        }
      ]
    },
    {
      "cell_type": "code",
      "source": [
        "#WRITE FILES\n",
        "fo=open(\"foo.txt\",\"w\")\n",
        "fo.write(\"Python is great\")\n",
        "fo.close()\n",
        "\n",
        "\n"
      ],
      "metadata": {
        "id": "KIhRLAb7QSVm"
      },
      "execution_count": null,
      "outputs": []
    },
    {
      "cell_type": "code",
      "source": [
        "#READ A FILE\n",
        "# Opening \n",
        "fo = open(\"foo.txt\", \"r\") \n",
        "# Reading \n",
        "str1 = fo.read() \n",
        "print (\"Read String is : \", str1) \n",
        "# Closing \n",
        "fo.close()"
      ],
      "metadata": {
        "id": "gYf3Nv8tQTpS"
      },
      "execution_count": null,
      "outputs": []
    },
    {
      "cell_type": "code",
      "source": [
        ""
      ],
      "metadata": {
        "id": "vzi63V5zQUST"
      },
      "execution_count": null,
      "outputs": []
    },
    {
      "cell_type": "code",
      "source": [
        "#JSON\n",
        "#JSON\n",
        "data = { \"firstName\": \"Jane\", \"lastName\": \"Doe\", \"hobbies\": [\"running\", \"sky diving\", \"singing\"], \"age\": 35, \"children\": [ { \"firstName\": \"Alice\", \"age\": 6 }, { \"firstName\": \"Bob\", \"age\": 8 } ] }\n",
        "\n",
        "import json \n",
        "type(data)#Data Type is Dictionary\n",
        "\n",
        "# serialize \n",
        "jsonserial= json.dumps(data, indent=2) \n",
        "print(jsonserial)\n",
        "type(jsonserial)#Data Type is json string\n",
        "\n",
        "# deserialize \n",
        "jsondeserial = json.loads(jsonserial) \n",
        "print(jsondeserial)\n",
        "type(jsondeserial)# Data type is Dictionary\n"
      ],
      "metadata": {
        "id": "IuJLyyB1QWx7"
      },
      "execution_count": null,
      "outputs": []
    },
    {
      "cell_type": "code",
      "source": [
        "#WEB SCRAPING\n",
        "import requests\n",
        "response=requests.get('http://www.hubertiming.com/results/2017gptr10k')\n",
        "print(response.status_code)\n",
        "print(response.text)\n",
        "import bs4\n",
        "soup = bs4.BeautifulSoup(response.text,'lxml')\n",
        "\n",
        "title = soup.title\n",
        "print(title)\n",
        "# Print out the text\n",
        "text = soup.get_text()\n",
        "#print(soup.text)\n",
        "soup.find_all('a')\n",
        "all_links = soup.find_all(\"a\")\n",
        "for link in all_links:\n",
        "    print(link.get(\"href\"))\n",
        "# Print the first 10 rows for sanity check\n",
        "rows = soup.find_all('tr')\n",
        "print(rows[:10])\n",
        "for row in rows:\n",
        "    row_td = row.find_all('td')\n",
        "print(row_td)\n",
        "type(row_td)\n",
        "str_cells = str(row_td)\n",
        "cleantext = bs4.BeautifulSoup(str_cells, \"lxml\").get_text()\n",
        "print(cleantext)\n",
        "import re\n",
        "import pandas as pd\n",
        "list_rows = []\n",
        "for row in rows:\n",
        "    cells = row.find_all('td')\n",
        "    str_cells = str(cells)\n",
        "    clean = re.compile('<.*?>')\n",
        "    clean2 = (re.sub(clean, '',str_cells))\n",
        "    list_rows.append(clean2)\n",
        "print(clean2)\n",
        "type(clean2)\n",
        "# The next step is to convert the list into a dataframe and get a quick view of the first #10 rows using Pandas.\n",
        "df = pd.DataFrame(list_rows)\n",
        "df.head(10)\n",
        "\n",
        "# Data Manipulation and Cleaning\n",
        "df1 = df[0].str.split(',', expand=True)\n",
        "df1.head(10)\n",
        "df1[0] = df1[0].str.strip('[')\n",
        "df1.head(10)\n",
        "#Scraping the header fields\n",
        "col_labels = soup.find_all('th')\n",
        "all_header = []\n",
        "col_str = str(col_labels)\n",
        "cleantext2 = bs4.BeautifulSoup(col_str, \"lxml\").get_text()\n",
        "all_header.append(cleantext2)\n",
        "print(all_header)\n",
        "df2 = pd.DataFrame(all_header)\n",
        "df2.head()\n",
        "df3 = df2[0].str.split(',', expand=True)\n",
        "df3.head()\n",
        "frames = [df3, df1]\n",
        "df4 = pd.concat(frames)\n",
        "df4.head(10)\n",
        "df5 = df4.rename(columns=df4.iloc[0])\n",
        "df5.head()\n",
        "df5.info()\n",
        "df5.shape\n",
        "df6 = df5.dropna(axis=0, how='any')\n",
        "df7 = df6.drop(df6.index[0])\n",
        "df7.head()\n",
        "df7.rename(columns={'[Place': 'Place'},inplace=True)\n",
        "df7.rename(columns={' Team]': 'Team'},inplace=True)\n",
        "df7.head()\n",
        "df7['Team'] = df7['Team'].str.strip(']')\n",
        "df7.head()\n"
      ],
      "metadata": {
        "id": "2zLG-NvJQecz"
      },
      "execution_count": null,
      "outputs": []
    }
  ]
}